{
 "cells": [
  {
   "cell_type": "markdown",
   "metadata": {},
   "source": [
    "## Method 1: Short and sweet method using TextBlob\n",
    "\n",
    "TextBlob library provides with many NLP functions including pre-trained sentiment polarity probability. [Source](https://github.com/llSourcell/twitter_sentiment_challenge/blob/master/demo.py)"
   ]
  },
  {
   "cell_type": "code",
   "execution_count": 2,
   "metadata": {
    "collapsed": true
   },
   "outputs": [],
   "source": [
    "import numpy as np # linear algebra\n",
    "import pandas as pd \n",
    "import matplotlib as mpl\n",
    "import matplotlib.pyplot as plt\n",
    "%matplotlib inline"
   ]
  },
  {
   "cell_type": "code",
   "execution_count": 2,
   "metadata": {
    "collapsed": false
   },
   "outputs": [],
   "source": [
    "fullTweets = pd.read_csv('./OutputStreaming.txt', sep=\",\", header = None)\n",
    "fullTweets.columns = ['author', 'date', 'text']"
   ]
  },
  {
   "cell_type": "code",
   "execution_count": 3,
   "metadata": {
    "collapsed": false
   },
   "outputs": [
    {
     "name": "stdout",
     "output_type": "stream",
     "text": [
      "<class 'pandas.core.frame.DataFrame'>\n",
      "(18929, 3)\n"
     ]
    },
    {
     "data": {
      "text/html": [
       "<div>\n",
       "<style>\n",
       "    .dataframe thead tr:only-child th {\n",
       "        text-align: right;\n",
       "    }\n",
       "\n",
       "    .dataframe thead th {\n",
       "        text-align: left;\n",
       "    }\n",
       "\n",
       "    .dataframe tbody tr th {\n",
       "        vertical-align: top;\n",
       "    }\n",
       "</style>\n",
       "<table border=\"1\" class=\"dataframe\">\n",
       "  <thead>\n",
       "    <tr style=\"text-align: right;\">\n",
       "      <th></th>\n",
       "      <th>author</th>\n",
       "      <th>date</th>\n",
       "      <th>text</th>\n",
       "    </tr>\n",
       "  </thead>\n",
       "  <tbody>\n",
       "    <tr>\n",
       "      <th>0</th>\n",
       "      <td>_Lucas_Chinag</td>\n",
       "      <td>2017-07-26 02:37:04</td>\n",
       "      <td>@joao_caleffi Jaozin no tesla #euacredito</td>\n",
       "    </tr>\n",
       "    <tr>\n",
       "      <th>1</th>\n",
       "      <td>ElectricMotorsC</td>\n",
       "      <td>2017-07-26 02:37:06</td>\n",
       "      <td>Seems that @Volkswagen creates a big rival for...</td>\n",
       "    </tr>\n",
       "    <tr>\n",
       "      <th>2</th>\n",
       "      <td>HernanIturriaga</td>\n",
       "      <td>2017-07-26 02:37:06</td>\n",
       "      <td>Volkswagen confía en que sus eléctricos supera...</td>\n",
       "    </tr>\n",
       "    <tr>\n",
       "      <th>3</th>\n",
       "      <td>GourmetHipster</td>\n",
       "      <td>2017-07-26 02:37:34</td>\n",
       "      <td>@clairlemon Many see capitalism = greed, but g...</td>\n",
       "    </tr>\n",
       "  </tbody>\n",
       "</table>\n",
       "</div>"
      ],
      "text/plain": [
       "            author                 date  \\\n",
       "0    _Lucas_Chinag  2017-07-26 02:37:04   \n",
       "1  ElectricMotorsC  2017-07-26 02:37:06   \n",
       "2  HernanIturriaga  2017-07-26 02:37:06   \n",
       "3   GourmetHipster  2017-07-26 02:37:34   \n",
       "\n",
       "                                                text  \n",
       "0          @joao_caleffi Jaozin no tesla #euacredito  \n",
       "1  Seems that @Volkswagen creates a big rival for...  \n",
       "2  Volkswagen confía en que sus eléctricos supera...  \n",
       "3  @clairlemon Many see capitalism = greed, but g...  "
      ]
     },
     "execution_count": 3,
     "metadata": {},
     "output_type": "execute_result"
    }
   ],
   "source": [
    "print(type(fullTweets))\n",
    "fullTweets.drop([0,1], inplace=True)\n",
    "fullTweets.reset_index(drop=True, inplace=True)\n",
    "print(fullTweets.shape)\n",
    "fullTweets.head(4)"
   ]
  },
  {
   "cell_type": "code",
   "execution_count": 4,
   "metadata": {
    "collapsed": false
   },
   "outputs": [
    {
     "name": "stdout",
     "output_type": "stream",
     "text": [
      "(18929, 5)\n"
     ]
    },
    {
     "data": {
      "text/html": [
       "<div>\n",
       "<style>\n",
       "    .dataframe thead tr:only-child th {\n",
       "        text-align: right;\n",
       "    }\n",
       "\n",
       "    .dataframe thead th {\n",
       "        text-align: left;\n",
       "    }\n",
       "\n",
       "    .dataframe tbody tr th {\n",
       "        vertical-align: top;\n",
       "    }\n",
       "</style>\n",
       "<table border=\"1\" class=\"dataframe\">\n",
       "  <thead>\n",
       "    <tr style=\"text-align: right;\">\n",
       "      <th></th>\n",
       "      <th>author</th>\n",
       "      <th>date</th>\n",
       "      <th>text</th>\n",
       "      <th>polarity</th>\n",
       "      <th>subjectivity</th>\n",
       "    </tr>\n",
       "  </thead>\n",
       "  <tbody>\n",
       "    <tr>\n",
       "      <th>0</th>\n",
       "      <td>_Lucas_Chinag</td>\n",
       "      <td>2017-07-26 02:37:04</td>\n",
       "      <td>@joao_caleffi Jaozin no tesla #euacredito</td>\n",
       "      <td>NaN</td>\n",
       "      <td>NaN</td>\n",
       "    </tr>\n",
       "    <tr>\n",
       "      <th>1</th>\n",
       "      <td>ElectricMotorsC</td>\n",
       "      <td>2017-07-26 02:37:06</td>\n",
       "      <td>Seems that @Volkswagen creates a big rival for...</td>\n",
       "      <td>NaN</td>\n",
       "      <td>NaN</td>\n",
       "    </tr>\n",
       "    <tr>\n",
       "      <th>2</th>\n",
       "      <td>HernanIturriaga</td>\n",
       "      <td>2017-07-26 02:37:06</td>\n",
       "      <td>Volkswagen confía en que sus eléctricos supera...</td>\n",
       "      <td>NaN</td>\n",
       "      <td>NaN</td>\n",
       "    </tr>\n",
       "    <tr>\n",
       "      <th>3</th>\n",
       "      <td>GourmetHipster</td>\n",
       "      <td>2017-07-26 02:37:34</td>\n",
       "      <td>@clairlemon Many see capitalism = greed, but g...</td>\n",
       "      <td>NaN</td>\n",
       "      <td>NaN</td>\n",
       "    </tr>\n",
       "    <tr>\n",
       "      <th>4</th>\n",
       "      <td>DrJamalAlzanki</td>\n",
       "      <td>2017-07-26 02:37:41</td>\n",
       "      <td>RT @qunaibet: قيمة شركة TESLA للسيارات الكهربا...</td>\n",
       "      <td>NaN</td>\n",
       "      <td>NaN</td>\n",
       "    </tr>\n",
       "    <tr>\n",
       "      <th>5</th>\n",
       "      <td>ScarletCoral</td>\n",
       "      <td>2017-07-26 02:37:43</td>\n",
       "      <td>Oui! Une Tesla pour tous! :) https://t.co/xjW7...</td>\n",
       "      <td>NaN</td>\n",
       "      <td>NaN</td>\n",
       "    </tr>\n",
       "  </tbody>\n",
       "</table>\n",
       "</div>"
      ],
      "text/plain": [
       "            author                 date  \\\n",
       "0    _Lucas_Chinag  2017-07-26 02:37:04   \n",
       "1  ElectricMotorsC  2017-07-26 02:37:06   \n",
       "2  HernanIturriaga  2017-07-26 02:37:06   \n",
       "3   GourmetHipster  2017-07-26 02:37:34   \n",
       "4   DrJamalAlzanki  2017-07-26 02:37:41   \n",
       "5     ScarletCoral  2017-07-26 02:37:43   \n",
       "\n",
       "                                                text polarity subjectivity  \n",
       "0          @joao_caleffi Jaozin no tesla #euacredito      NaN          NaN  \n",
       "1  Seems that @Volkswagen creates a big rival for...      NaN          NaN  \n",
       "2  Volkswagen confía en que sus eléctricos supera...      NaN          NaN  \n",
       "3  @clairlemon Many see capitalism = greed, but g...      NaN          NaN  \n",
       "4  RT @qunaibet: قيمة شركة TESLA للسيارات الكهربا...      NaN          NaN  \n",
       "5  Oui! Une Tesla pour tous! :) https://t.co/xjW7...      NaN          NaN  "
      ]
     },
     "execution_count": 4,
     "metadata": {},
     "output_type": "execute_result"
    }
   ],
   "source": [
    "df = pd.DataFrame(columns=['author','date','text','polarity','subjectivity'])\n",
    "df[['author','date','text']]=fullTweets.copy()\n",
    "print(df.shape)\n",
    "df.head(6)"
   ]
  },
  {
   "cell_type": "code",
   "execution_count": 1,
   "metadata": {
    "collapsed": false
   },
   "outputs": [
    {
     "ename": "NameError",
     "evalue": "name 'df' is not defined",
     "output_type": "error",
     "traceback": [
      "\u001b[0;31m---------------------------------------------------------------------------\u001b[0m",
      "\u001b[0;31mNameError\u001b[0m                                 Traceback (most recent call last)",
      "\u001b[0;32m<ipython-input-1-fc5160c49219>\u001b[0m in \u001b[0;36m<module>\u001b[0;34m()\u001b[0m\n\u001b[1;32m      4\u001b[0m \u001b[0murlsL\u001b[0m\u001b[0;34m=\u001b[0m\u001b[0;34m[\u001b[0m\u001b[0;34m]\u001b[0m\u001b[0;34m\u001b[0m\u001b[0m\n\u001b[1;32m      5\u001b[0m \u001b[0mtextsL\u001b[0m\u001b[0;34m=\u001b[0m\u001b[0;34m[\u001b[0m\u001b[0;34m]\u001b[0m\u001b[0;34m\u001b[0m\u001b[0m\n\u001b[0;32m----> 6\u001b[0;31m \u001b[0;32mfor\u001b[0m \u001b[0mindex\u001b[0m\u001b[0;34m,\u001b[0m \u001b[0mrow\u001b[0m \u001b[0;32min\u001b[0m \u001b[0mdf\u001b[0m\u001b[0;34m.\u001b[0m\u001b[0miterrows\u001b[0m\u001b[0;34m(\u001b[0m\u001b[0;34m)\u001b[0m\u001b[0;34m:\u001b[0m\u001b[0;34m\u001b[0m\u001b[0m\n\u001b[0m\u001b[1;32m      7\u001b[0m     \u001b[0mtexti\u001b[0m\u001b[0;34m=\u001b[0m\u001b[0mrow\u001b[0m\u001b[0;34m.\u001b[0m\u001b[0mtext\u001b[0m  \u001b[0;31m# text_i\u001b[0m\u001b[0;34m\u001b[0m\u001b[0m\n\u001b[1;32m      8\u001b[0m     \u001b[0murl\u001b[0m\u001b[0;34m=\u001b[0m\u001b[0mre\u001b[0m\u001b[0;34m.\u001b[0m\u001b[0mfindall\u001b[0m\u001b[0;34m(\u001b[0m\u001b[0;34mr'http\\S+'\u001b[0m\u001b[0;34m,\u001b[0m \u001b[0mtexti\u001b[0m\u001b[0;34m)\u001b[0m\u001b[0;34m\u001b[0m\u001b[0m\n",
      "\u001b[0;31mNameError\u001b[0m: name 'df' is not defined"
     ]
    }
   ],
   "source": [
    "# split off urls using regular expressions\n",
    "import re\n",
    "\n",
    "urlsL=[]\n",
    "textsL=[]\n",
    "for index, row in df.iterrows():\n",
    "    texti=row.text  # text_i\n",
    "    url=re.findall(r'http\\S+', texti)\n",
    "    #print('\\n',len(url),row.author, row.text[0:20])\n",
    "    urlsL+=[url]    \n",
    "    for urlj in url: #Some tweets contain several urls\n",
    "        textisurl=texti.replace(urlj,'') #text_i sans url\n",
    "    #print('TEXT:',text1)\n",
    "        textsL+=[textisurl]  # add it to the list\n",
    "print('lengths should match:',len(urlsL), len(textsL), len(df.text))\n",
    "#df.text = textsL  # replace the 'text' column in df\n",
    "#df['urls']=urlsL  # add a 'urls' column to df\n",
    "df.head(5)"
   ]
  },
  {
   "cell_type": "markdown",
   "metadata": {},
   "source": [
    "### Let's make a word cloud of our tweets"
   ]
  },
  {
   "cell_type": "code",
   "execution_count": 12,
   "metadata": {
    "collapsed": false
   },
   "outputs": [
    {
     "name": "stdout",
     "output_type": "stream",
     "text": [
      "<wordcloud.wordcloud.WordCloud object at 0x104bf7470>\n"
     ]
    },
    {
     "data": {
      "image/png": "[encoded data removed]",
      "text/plain": [
       "<matplotlib.figure.Figure at 0x10e6e5c88>"
      ]
     },
     "metadata": {},
     "output_type": "display_data"
    }
   ],
   "source": [
    "# Make a word cloud\n",
    "# will need to install wordCloud: conda install -c conda-forge wordcloud\n",
    "\n",
    "from subprocess import check_output\n",
    "from wordcloud import WordCloud, STOPWORDS\n",
    "\n",
    "#mpl.rcParams['figure.figsize']=(8.0,6.0)    #(6.0,4.0)\n",
    "mpl.rcParams['font.size']=12                #10 \n",
    "mpl.rcParams['savefig.dpi']=100             #72 \n",
    "mpl.rcParams['figure.subplot.bottom']=.1 \n",
    "\n",
    "\n",
    "stopwords = set(STOPWORDS) # This is a pre-packaged set of stop words.\n",
    "stopwords.update(['https','t.co','co','video','RT']) #add other words as needed\n",
    "\n",
    "myString = str(\" \".join(df['text'])) # should be one string\n",
    "\n",
    "wordcloud = WordCloud(\n",
    "                          background_color='black',\n",
    "                          stopwords=stopwords,\n",
    "                          max_words=25,\n",
    "                          max_font_size=40, \n",
    "                          random_state=7\n",
    "                         ).generate(myString)\n",
    "\n",
    "print(wordcloud)\n",
    "fig = plt.figure(1)\n",
    "plt.imshow(wordcloud)\n",
    "plt.axis('off')\n",
    "plt.show()\n",
    "fig.savefig(\"word1.png\", dpi=900)\n"
   ]
  },
  {
   "cell_type": "code",
   "execution_count": 10,
   "metadata": {
    "collapsed": false
   },
   "outputs": [
    {
     "data": {
      "text/html": [
       "<div>\n",
       "<style>\n",
       "    .dataframe thead tr:only-child th {\n",
       "        text-align: right;\n",
       "    }\n",
       "\n",
       "    .dataframe thead th {\n",
       "        text-align: left;\n",
       "    }\n",
       "\n",
       "    .dataframe tbody tr th {\n",
       "        vertical-align: top;\n",
       "    }\n",
       "</style>\n",
       "<table border=\"1\" class=\"dataframe\">\n",
       "  <thead>\n",
       "    <tr style=\"text-align: right;\">\n",
       "      <th></th>\n",
       "      <th>author</th>\n",
       "      <th>date</th>\n",
       "      <th>text</th>\n",
       "      <th>polarity</th>\n",
       "      <th>subjectivity</th>\n",
       "    </tr>\n",
       "  </thead>\n",
       "  <tbody>\n",
       "    <tr>\n",
       "      <th>0</th>\n",
       "      <td>_Lucas_Chinag</td>\n",
       "      <td>2017-07-26 02:37:04</td>\n",
       "      <td>@joao_caleffi Jaozin no tesla #euacredito</td>\n",
       "      <td>0</td>\n",
       "      <td>0</td>\n",
       "    </tr>\n",
       "    <tr>\n",
       "      <th>1</th>\n",
       "      <td>ElectricMotorsC</td>\n",
       "      <td>2017-07-26 02:37:06</td>\n",
       "      <td>Seems that @Volkswagen creates a big rival for...</td>\n",
       "      <td>0</td>\n",
       "      <td>0.1</td>\n",
       "    </tr>\n",
       "    <tr>\n",
       "      <th>2</th>\n",
       "      <td>HernanIturriaga</td>\n",
       "      <td>2017-07-26 02:37:06</td>\n",
       "      <td>Volkswagen confía en que sus eléctricos supera...</td>\n",
       "      <td>0</td>\n",
       "      <td>0</td>\n",
       "    </tr>\n",
       "    <tr>\n",
       "      <th>3</th>\n",
       "      <td>GourmetHipster</td>\n",
       "      <td>2017-07-26 02:37:34</td>\n",
       "      <td>@clairlemon Many see capitalism = greed, but g...</td>\n",
       "      <td>0.45</td>\n",
       "      <td>0.65</td>\n",
       "    </tr>\n",
       "    <tr>\n",
       "      <th>4</th>\n",
       "      <td>DrJamalAlzanki</td>\n",
       "      <td>2017-07-26 02:37:41</td>\n",
       "      <td>RT @qunaibet: قيمة شركة TESLA للسيارات الكهربا...</td>\n",
       "      <td>0</td>\n",
       "      <td>0</td>\n",
       "    </tr>\n",
       "  </tbody>\n",
       "</table>\n",
       "</div>"
      ],
      "text/plain": [
       "            author                 date  \\\n",
       "0    _Lucas_Chinag  2017-07-26 02:37:04   \n",
       "1  ElectricMotorsC  2017-07-26 02:37:06   \n",
       "2  HernanIturriaga  2017-07-26 02:37:06   \n",
       "3   GourmetHipster  2017-07-26 02:37:34   \n",
       "4   DrJamalAlzanki  2017-07-26 02:37:41   \n",
       "\n",
       "                                                text polarity subjectivity  \n",
       "0          @joao_caleffi Jaozin no tesla #euacredito        0            0  \n",
       "1  Seems that @Volkswagen creates a big rival for...        0          0.1  \n",
       "2  Volkswagen confía en que sus eléctricos supera...        0            0  \n",
       "3  @clairlemon Many see capitalism = greed, but g...     0.45         0.65  \n",
       "4  RT @qunaibet: قيمة شركة TESLA للسيارات الكهربا...        0            0  "
      ]
     },
     "execution_count": 10,
     "metadata": {},
     "output_type": "execute_result"
    }
   ],
   "source": [
    "import tweepy\n",
    "from textblob import TextBlob\n",
    "\n",
    "# Try everything with just first ten rows\n",
    "for index, row in df.iterrows():\n",
    "    #print(row.text[0:20])\n",
    "    \n",
    "    # Perform Sentiment Analysis on Tweets\n",
    "    analysis = TextBlob(row.text)\n",
    "    \n",
    "    row.polarity, row.subjectivity = round(analysis.sentiment[0], 3), round(analysis.sentiment[1], 3)\n",
    "    #print(row.polarity, row.subjectivity, row.author,row.text[0:30])\n",
    "df.head(5)"
   ]
  },
  {
   "cell_type": "markdown",
   "metadata": {},
   "source": [
    "### Scatterplot using Plotly\n",
    "You can group your groups by their sentiment and subjectivity scores, tweet length, and time posted. If you want to perform K-means clustering on them, here's a [nice tutorial](https://pythonprogramming.net/flat-clustering-machine-learning-python-scikit-learn/) from pythonprogramming.net."
   ]
  },
  {
   "cell_type": "code",
   "execution_count": 11,
   "metadata": {
    "collapsed": false
   },
   "outputs": [
    {
     "name": "stdout",
     "output_type": "stream",
     "text": [
      "2.0.9\n"
     ]
    },
    {
     "data": {
      "text/html": [
       "<script>requirejs.config({paths: { 'plotly': ['https://cdn.plot.ly/plotly-latest.min']},});if(!window.Plotly) {{require(['plotly'],function(plotly) {window.Plotly=plotly;});}}</script>"
      ],
      "text/vnd.plotly.v1+html": [
       "<script>requirejs.config({paths: { 'plotly': ['https://cdn.plot.ly/plotly-latest.min']},});if(!window.Plotly) {{require(['plotly'],function(plotly) {window.Plotly=plotly;});}}</script>"
      ]
     },
     "metadata": {},
     "output_type": "display_data"
    }
   ],
   "source": [
    "# Will need to install plotly: conda install plotly\n",
    "import plotly.offline as py\n",
    "import plotly.tools as tls\n",
    "from plotly import __version__\n",
    "from plotly.offline import download_plotlyjs, init_notebook_mode, plot, iplot\n",
    "\n",
    "print( __version__) # requires version >= 1.9.0\n",
    "\n",
    "init_notebook_mode(connected=True)"
   ]
  },
  {
   "cell_type": "code",
   "execution_count": 21,
   "metadata": {
    "collapsed": false
   },
   "outputs": [
    {
     "data": {
      "application/vnd.plotly.v1+json": {
       "data": [
        {
         "x": [
          1,
          2,
          3
         ],
         "y": [
          3,
          1,
          6
         ]
        }
       ],
       "layout": {}
      },
      "text/html": [
       "<div id=\"927757d9-fafe-4aba-8f20-9bde41794345\" style=\"height: 525px; width: 100%;\" class=\"plotly-graph-div\"></div><script type=\"text/javascript\">require([\"plotly\"], function(Plotly) { window.PLOTLYENV=window.PLOTLYENV || {};window.PLOTLYENV.BASE_URL=\"https://plot.ly\";Plotly.newPlot(\"927757d9-fafe-4aba-8f20-9bde41794345\", [{\"x\": [1, 2, 3], \"y\": [3, 1, 6]}], {}, {\"showLink\": true, \"linkText\": \"Export to plot.ly\"})});</script>"
      ],
      "text/vnd.plotly.v1+html": [
       "<div id=\"927757d9-fafe-4aba-8f20-9bde41794345\" style=\"height: 525px; width: 100%;\" class=\"plotly-graph-div\"></div><script type=\"text/javascript\">require([\"plotly\"], function(Plotly) { window.PLOTLYENV=window.PLOTLYENV || {};window.PLOTLYENV.BASE_URL=\"https://plot.ly\";Plotly.newPlot(\"927757d9-fafe-4aba-8f20-9bde41794345\", [{\"x\": [1, 2, 3], \"y\": [3, 1, 6]}], {}, {\"showLink\": true, \"linkText\": \"Export to plot.ly\"})});</script>"
      ]
     },
     "metadata": {},
     "output_type": "display_data"
    }
   ],
   "source": [
    "# Use this simple plot to check that plotly.offline is working\n",
    "# Remove the hatch before 'iplot' to create the plot\n",
    "# A graph should appear below\n",
    "iplot([{\"x\": [1, 2, 3], \"y\": [3, 1, 6]}])\n"
   ]
  },
  {
   "cell_type": "code",
   "execution_count": 7,
   "metadata": {
    "collapsed": false
   },
   "outputs": [
    {
     "ename": "NameError",
     "evalue": "name 'tls' is not defined",
     "output_type": "error",
     "traceback": [
      "\u001b[0;31m---------------------------------------------------------------------------\u001b[0m",
      "\u001b[0;31mNameError\u001b[0m                                 Traceback (most recent call last)",
      "\u001b[0;32m<ipython-input-7-1a0316b445f5>\u001b[0m in \u001b[0;36m<module>\u001b[0;34m()\u001b[0m\n\u001b[1;32m     14\u001b[0m \u001b[0;34m\u001b[0m\u001b[0m\n\u001b[1;32m     15\u001b[0m \u001b[0mmpl_fig\u001b[0m \u001b[0;34m=\u001b[0m \u001b[0mplt\u001b[0m\u001b[0;34m.\u001b[0m\u001b[0mgcf\u001b[0m\u001b[0;34m(\u001b[0m\u001b[0;34m)\u001b[0m\u001b[0;34m\u001b[0m\u001b[0m\n\u001b[0;32m---> 16\u001b[0;31m \u001b[0mplotly_fig\u001b[0m \u001b[0;34m=\u001b[0m \u001b[0mtls\u001b[0m\u001b[0;34m.\u001b[0m\u001b[0mmpl_to_plotly\u001b[0m\u001b[0;34m(\u001b[0m \u001b[0mmpl_fig\u001b[0m \u001b[0;34m)\u001b[0m\u001b[0;34m\u001b[0m\u001b[0m\n\u001b[0m\u001b[1;32m     17\u001b[0m \u001b[0;34m\u001b[0m\u001b[0m\n\u001b[1;32m     18\u001b[0m \u001b[0;32mfor\u001b[0m \u001b[0mdat\u001b[0m \u001b[0;32min\u001b[0m \u001b[0mplotly_fig\u001b[0m\u001b[0;34m[\u001b[0m\u001b[0;34m'data'\u001b[0m\u001b[0;34m]\u001b[0m\u001b[0;34m:\u001b[0m\u001b[0;34m\u001b[0m\u001b[0m\n",
      "\u001b[0;31mNameError\u001b[0m: name 'tls' is not defined"
     ]
    },
    {
     "data": {
      "image/png": "[encoded data removed]",
      "text/plain": [
       "<matplotlib.figure.Figure at 0x11a49e160>"
      ]
     },
     "metadata": {},
     "output_type": "display_data"
    }
   ],
   "source": [
    "colors = ['b', 'c', 'y', 'm', 'r']\n",
    "\n",
    "# You can subset your datapoints by different criteria and then assign them to a separate group\n",
    "lo = plt.scatter(df.loc[0:40,'polarity'], df.loc[0:40,'subjectivity'], marker='x', color=colors[0])\n",
    "ll = plt.scatter(df.loc[40:,'polarity'], df.loc[40:,'subjectivity'], marker='o', color=colors[1])\n",
    "# l  = plt.scatter(np.random.random(10), np.random.random(10), marker='o', color=colors[1])\n",
    "a  = plt.scatter(np.random.random(10), np.random.random(10), marker='o', color=colors[2])\n",
    "# h  = plt.scatter(np.random.random(10), np.random.random(10), marker='o', color=colors[3])\n",
    "# hh = plt.scatter(np.random.random(10), np.random.random(10), marker='o', color=colors[4])\n",
    "# ho = plt.scatter(np.random.random(10), np.random.random(10), marker='x', color=colors[4])\n",
    "\n",
    "#text = iter(['Low Outlier', 'LoLo', 'Lo', 'Average', 'Hi', 'HiHi', 'High Outlier'])\n",
    "text = iter(['lo', 'll'])\n",
    "\n",
    "mpl_fig = plt.gcf()\n",
    "plotly_fig = tls.mpl_to_plotly( mpl_fig )\n",
    "\n",
    "for dat in plotly_fig['data']:\n",
    "    t = next(text)\n",
    "    dat.update({'name': t, 'text':t})\n",
    "\n",
    "plotly_fig['layout']['showlegend'] = True\n",
    "iplot(plotly_fig)"
   ]
  },
  {
   "cell_type": "markdown",
   "metadata": {
    "collapsed": true
   },
   "source": [
    "## Perform sentiment analysis using [MonkeyLearn](https://monkeylearn.com/)  \n",
    "\n",
    "The method above can easily be adapted to use MonkeyLearn instead of TextBlob.\n",
    "You could compare how the two perform.\n",
    "[source](https://sidmouthwebdesign.github.io/josephmacmillan/twitter-sentiment-analysis-with-monkeylearn-and-tweepy/)\n",
    "\n",
    "[MonkeyLearn Free Account](https://monkeylearn.com/pricing/)"
   ]
  },
  {
   "cell_type": "code",
   "execution_count": null,
   "metadata": {
    "collapsed": false
   },
   "outputs": [
    {
     "name": "stdout",
     "output_type": "stream",
     "text": [
      "@joao_caleffi Jaozin no tesla #euacredito\n",
      "[[{'category_id': 329045, 'probability': 0.808, 'label': 'negative'}]]\n",
      "\n",
      "Seems that @Volkswagen creates a big rival for #Tesla #Model3 https://t.co/DoGeahQBYk @VW #vw #electriccars… https://t.co/vA32Wiv3RE\n",
      "[[{'category_id': 411994, 'probability': 0.496, 'label': 'neutral'}]]\n",
      "\n",
      "Volkswagen confía en que sus eléctricos superarán a los de Tesla https://t.co/dtJ0zDms4H\n",
      "[[{'category_id': 411994, 'probability': 0.592, 'label': 'neutral'}]]\n",
      "\n",
      "@clairlemon Many see capitalism = greed, but greed is detrimental to a free market economy, it perverts it. Car dea… https://t.co/ipldOYPtDM\n",
      "[[{'category_id': 411994, 'probability': 0.386, 'label': 'neutral'}]]\n",
      "\n",
      "RT @qunaibet: قيمة شركة TESLA للسيارات الكهربائية التي أنتجت ٨٥٠٠٠ سيارة، أكبر من قيمة شركة جي إم GM التي انتجت ٩ ملايين سيارة !!… \n",
      "[[{'category_id': 411994, 'probability': 0.685, 'label': 'neutral'}]]\n",
      "\n",
      "Oui! Une Tesla pour tous! :) https://t.co/xjW7N1d7Mp\n",
      "[[{'category_id': 329046, 'probability': 0.827, 'label': 'positive'}]]\n",
      "\n",
      "Fremont #CA #USA - Yard Inventory - Yard Inventory Specialist Reports to Tesla Operations Manag... https://t.co/8kZjqZFAZg #OAKLAND #CAREER\n",
      "[[{'category_id': 411994, 'probability': 0.559, 'label': 'neutral'}]]\n",
      "\n",
      "RT @CalvinKlesmith: So much truth in this article https://t.co/mJwo1PT5Ax\n",
      "[[{'category_id': 411994, 'probability': 0.373, 'label': 'neutral'}]]\n",
      "\n",
      "I added a video to a @YouTube playlist https://t.co/QBJF93XdZj Tesla - Honky Tonk Women\n",
      "[[{'category_id': 411994, 'probability': 0.418, 'label': 'neutral'}]]\n",
      "\n",
      "Gramatik commemorates Nikola Tesla with RE:COIL at Red Rocks [Review] - https://t.co/Rsq6rjlqPu https://t.co/gdVxBlxfiw\n",
      "[[{'category_id': 411994, 'probability': 0.606, 'label': 'neutral'}]]\n",
      "\n",
      "Tesla Model S regains favor of Consumer Reports after Automatic Emergency Braking update https://t.co/f6HwrtAvmY\n",
      "[[{'category_id': 411994, 'probability': 0.558, 'label': 'neutral'}]]\n",
      "\n",
      "RT @ARCrusade: Forget leather!! Thank you @elonmusk @TeslaMotors #vegan #save🌎 https://t.co/4VP7CtMDQP\n",
      "[[{'category_id': 329046, 'probability': 0.881, 'label': 'positive'}]]\n",
      "\n",
      "Tesla’s Stock is More Fun to Watch Than a NASCAR Race https://t.co/qVtdAfiw2f\n",
      "[[{'category_id': 329046, 'probability': 0.73, 'label': 'positive'}]]\n",
      "\n",
      "El “Tesla de los mares”: el primer barco de carga eléctrico y sin tripulación zarpará en 2018… https://t.co/94AymTDNXM\n",
      "[[{'category_id': 411994, 'probability': 0.6, 'label': 'neutral'}]]\n",
      "\n",
      "RT @TimesNow: Mark Zuckerberg &amp; Elon Musk engaged in an altercation over Artificial Intelligence (AI). Click for full story\n",
      "https://t.co/4T…\n",
      "[[{'category_id': 411994, 'probability': 0.509, 'label': 'neutral'}]]\n",
      "\n",
      "Tesla hopes to unveil semi truck this year, pickup by 2019 https://t.co/1hBEdmzlsN\n",
      "[[{'category_id': 329046, 'probability': 0.425, 'label': 'positive'}]]\n",
      "\n",
      "Tesla Model 3 Will Have Card Instead of Key https://t.co/uiBaRaJR5y https://t.co/LvN3c9CuM3\n",
      "[[{'category_id': 411994, 'probability': 0.627, 'label': 'neutral'}]]\n",
      "\n",
      "RT @geeksandbeats: Tesla to Go beyond Cars and Batteries? https://t.co/WpOrHqEwT1 #androidauto https://t.co/5BPmYiyekG\n",
      "[[{'category_id': 411994, 'probability': 0.783, 'label': 'neutral'}]]\n",
      "\n",
      "This 10yr DCF analysis implies Tesla Motors, $TSLA is 37% undervalued before earnings next Wednesday… https://t.co/zdnqw5RPP8\n",
      "[[{'category_id': 411994, 'probability': 0.604, 'label': 'neutral'}]]\n",
      "\n",
      "RT @cnni: Tesla boss Elon Musk says Facebook founder Mark Zuckerberg's understanding of artificial intelligence is 'limited'… \n",
      "[[{'category_id': 411994, 'probability': 0.576, 'label': 'neutral'}]]\n",
      "\n",
      "Tesla didn't invent free energy; he only unlocked the secret of the great pyramid, which predate pharaohs.\n",
      "Obelisks… https://t.co/6uGXr2tf7H\n"
     ]
    }
   ],
   "source": [
    "from monkeylearn import MonkeyLearn\n",
    "\n",
    "for index, row in df.iterrows():\n",
    "    print(row.text)\n",
    "    \n",
    "    #Perform Sentiment Analysis on Tweets\n",
    "    ml = MonkeyLearn('d7edbb0981db8698ce6b85094844f067c8b42d60')\n",
    "    text_list = [row.text]\n",
    "    module_id = 'cl_qkjxv9Ly'\n",
    "    res = ml.classifiers.classify(module_id, text_list, sandbox=True)\n",
    "    print(res.result)\n",
    "    print(\"\")"
   ]
  },
  {
   "cell_type": "markdown",
   "metadata": {
    "collapsed": true
   },
   "source": [
    "# Method 2: SentiWordnet"
   ]
  },
  {
   "cell_type": "markdown",
   "metadata": {},
   "source": [
    "Using SentiWordnet\n",
    "One of the most straightforward approaches is to use SentiWordnet to compute the polarity of the words and average that value. The plan is to use this model as a baseline for future approaches. It’s also a good idea to know about SentiWordnet and how to use it. [Source](http://nlpforhackers.io/sentiment-analysis-intro/)"
   ]
  },
  {
   "cell_type": "code",
   "execution_count": null,
   "metadata": {
    "collapsed": true
   },
   "outputs": [],
   "source": [
    "from nltk.stem import WordNetLemmatizer\n",
    "from nltk.corpus import wordnet as wn\n",
    "from nltk.corpus import sentiwordnet as swn\n",
    "from nltk import sent_tokenize, word_tokenize, pos_tag\n",
    "\n",
    "lemmatizer = WordNetLemmatizer()\n",
    " \n",
    " \n",
    "def penn_to_wn(tag):\n",
    "    \"\"\"\n",
    "    Convert between the PennTreebank tags to simple Wordnet tags\n",
    "    \"\"\"\n",
    "    if tag.startswith('J'):\n",
    "        return wn.ADJ\n",
    "    elif tag.startswith('N'):\n",
    "        return wn.NOUN\n",
    "    elif tag.startswith('R'):\n",
    "        return wn.ADV\n",
    "    elif tag.startswith('V'):\n",
    "        return wn.VERB\n",
    "    return None"
   ]
  },
  {
   "cell_type": "code",
   "execution_count": 19,
   "metadata": {
    "collapsed": true
   },
   "outputs": [],
   "source": [
    "def clean_text(text):\n",
    "    text = text.replace(\"<br />\", \" \")\n",
    "    #text = text.decode(encoding = 'UTF-8')\n",
    " \n",
    "    return text"
   ]
  },
  {
   "cell_type": "code",
   "execution_count": 20,
   "metadata": {
    "collapsed": false
   },
   "outputs": [
    {
     "ename": "NameError",
     "evalue": "name 'train_X' is not defined",
     "output_type": "error",
     "traceback": [
      "\u001b[0;31m---------------------------------------------------------------------------\u001b[0m",
      "\u001b[0;31mNameError\u001b[0m                                 Traceback (most recent call last)",
      "\u001b[0;32m<ipython-input-20-5794e6b0d917>\u001b[0m in \u001b[0;36m<module>\u001b[0;34m()\u001b[0m\n\u001b[1;32m     46\u001b[0m    \u001b[0;32mreturn\u001b[0m \u001b[0;36m0\u001b[0m\u001b[0;34m\u001b[0m\u001b[0m\n\u001b[1;32m     47\u001b[0m \u001b[0;31m# Since we're shuffling, you'll get different results\u001b[0m\u001b[0;34m\u001b[0m\u001b[0;34m\u001b[0m\u001b[0m\n\u001b[0;32m---> 48\u001b[0;31m \u001b[0mprint\u001b[0m\u001b[0;34m(\u001b[0m\u001b[0mswn_polarity\u001b[0m\u001b[0;34m(\u001b[0m\u001b[0mtrain_X\u001b[0m\u001b[0;34m[\u001b[0m\u001b[0;36m0\u001b[0m\u001b[0;34m]\u001b[0m\u001b[0;34m)\u001b[0m\u001b[0;34m,\u001b[0m \u001b[0mtrain_y\u001b[0m\u001b[0;34m[\u001b[0m\u001b[0;36m0\u001b[0m\u001b[0;34m]\u001b[0m\u001b[0;34m)\u001b[0m\u001b[0;34m\u001b[0m\u001b[0m\n\u001b[0m\u001b[1;32m     49\u001b[0m \u001b[0mprint\u001b[0m\u001b[0;34m(\u001b[0m\u001b[0mswn_polarity\u001b[0m\u001b[0;34m(\u001b[0m\u001b[0mtrain_X\u001b[0m\u001b[0;34m[\u001b[0m\u001b[0;36m1\u001b[0m\u001b[0;34m]\u001b[0m\u001b[0;34m)\u001b[0m\u001b[0;34m,\u001b[0m \u001b[0mtrain_y\u001b[0m\u001b[0;34m[\u001b[0m\u001b[0;36m1\u001b[0m\u001b[0;34m]\u001b[0m\u001b[0;34m)\u001b[0m\u001b[0;34m\u001b[0m\u001b[0m\n\u001b[1;32m     50\u001b[0m \u001b[0mprint\u001b[0m\u001b[0;34m(\u001b[0m\u001b[0mswn_polarity\u001b[0m\u001b[0;34m(\u001b[0m\u001b[0mtrain_X\u001b[0m\u001b[0;34m[\u001b[0m\u001b[0;36m2\u001b[0m\u001b[0;34m]\u001b[0m\u001b[0;34m)\u001b[0m\u001b[0;34m,\u001b[0m \u001b[0mtrain_y\u001b[0m\u001b[0;34m[\u001b[0m\u001b[0;36m2\u001b[0m\u001b[0;34m]\u001b[0m\u001b[0;34m)\u001b[0m\u001b[0;34m\u001b[0m\u001b[0m\n",
      "\u001b[0;31mNameError\u001b[0m: name 'train_X' is not defined"
     ]
    }
   ],
   "source": [
    " \n",
    "def swn_polarity(text):\n",
    "    \"\"\"\n",
    "    Return a sentiment polarity: 0 = negative, 1 = positive\n",
    "    \"\"\"\n",
    " \n",
    "    sentiment = 0.0\n",
    "    tokens_count = 0\n",
    " \n",
    "    text = clean_text(text)\n",
    " \n",
    " \n",
    "    raw_sentences = sent_tokenize(text)\n",
    "    for raw_sentence in raw_sentences:\n",
    "        tagged_sentence = pos_tag(word_tokenize(raw_sentence))\n",
    " \n",
    "        for word, tag in tagged_sentence:\n",
    "            wn_tag = penn_to_wn(tag)\n",
    "            if wn_tag not in (wn.NOUN, wn.ADJ, wn.ADV):\n",
    "                continue\n",
    " \n",
    "            lemma = lemmatizer.lemmatize(word, pos=wn_tag)\n",
    "            if not lemma:\n",
    "                continue\n",
    " \n",
    "            synsets = wn.synsets(lemma, pos=wn_tag)\n",
    "            if not synsets:\n",
    "                continue\n",
    " \n",
    "            # Take the first sense, the most common\n",
    "            synset = synsets[0]\n",
    "            swn_synset = swn.senti_synset(synset.name())\n",
    " \n",
    "            sentiment += swn_synset.pos_score() - swn_synset.neg_score()\n",
    "            tokens_count += 1\n",
    " \n",
    "    # judgment call ? Default to positive or negative\n",
    "    if not tokens_count:\n",
    "        return 0\n",
    " \n",
    "    # sum greater than 0 => positive sentiment\n",
    "    if sentiment >= 0:\n",
    "        return 1\n",
    " \n",
    "    # negative sentiment\n",
    "    return 0\n",
    "# Since we're shuffling, you'll get different results\n",
    "print(swn_polarity(train_X[0]), train_y[0]) \n",
    "print(swn_polarity(train_X[1]), train_y[1]) \n",
    "print(swn_polarity(train_X[2]), train_y[2]) \n",
    "print(swn_polarity(train_X[3]), train_y[3]) \n",
    "print(swn_polarity(train_X[4]), train_y[4]) "
   ]
  },
  {
   "cell_type": "markdown",
   "metadata": {},
   "source": [
    "## Method 3: NLTK SentimentAnalyzer  \n",
    "\n",
    "NLTK has some neat built in utilities for doing sentiment analysis. Here's sample code \"SentimentAnalyzer\" from nlpfor hackers. It trains a NaiveBayes Classifier model on a labeled dataset of 25,000 movie reviews.\n",
    "[Source](http://nlpforhackers.io/sentiment-analysis-intro/)\n",
    "\n",
    "## Read and split train and test sets"
   ]
  },
  {
   "cell_type": "code",
   "execution_count": 21,
   "metadata": {
    "collapsed": false
   },
   "outputs": [
    {
     "ename": "FileNotFoundError",
     "evalue": "File b'labeledTrainData.tsv' does not exist",
     "output_type": "error",
     "traceback": [
      "\u001b[0;31m---------------------------------------------------------------------------\u001b[0m",
      "\u001b[0;31mFileNotFoundError\u001b[0m                         Traceback (most recent call last)",
      "\u001b[0;32m<ipython-input-21-db3675414176>\u001b[0m in \u001b[0;36m<module>\u001b[0;34m()\u001b[0m\n\u001b[1;32m      1\u001b[0m \u001b[0;31m#import pandas as pd\u001b[0m\u001b[0;34m\u001b[0m\u001b[0;34m\u001b[0m\u001b[0m\n\u001b[1;32m      2\u001b[0m \u001b[0mntotal\u001b[0m\u001b[0;34m=\u001b[0m\u001b[0;36m3000\u001b[0m\u001b[0;34m\u001b[0m\u001b[0m\n\u001b[0;32m----> 3\u001b[0;31m \u001b[0mdata\u001b[0m \u001b[0;34m=\u001b[0m \u001b[0mpd\u001b[0m\u001b[0;34m.\u001b[0m\u001b[0mread_csv\u001b[0m\u001b[0;34m(\u001b[0m\u001b[0;34m\"labeledTrainData.tsv\"\u001b[0m\u001b[0;34m,\u001b[0m \u001b[0mheader\u001b[0m\u001b[0;34m=\u001b[0m\u001b[0;36m0\u001b[0m\u001b[0;34m,\u001b[0m \u001b[0mdelimiter\u001b[0m\u001b[0;34m=\u001b[0m\u001b[0;34m\"\\t\"\u001b[0m\u001b[0;34m,\u001b[0m \u001b[0mquoting\u001b[0m\u001b[0;34m=\u001b[0m\u001b[0;36m3\u001b[0m\u001b[0;34m,\u001b[0m \u001b[0mnrows\u001b[0m\u001b[0;34m=\u001b[0m\u001b[0mntotal\u001b[0m\u001b[0;34m)\u001b[0m\u001b[0;34m\u001b[0m\u001b[0m\n\u001b[0m\u001b[1;32m      4\u001b[0m \u001b[0;31m#data = pd.read_csv(\"labeledTrainData.tsv\", header=0, delimiter=\"\\t\", quoting=3)\u001b[0m\u001b[0;34m\u001b[0m\u001b[0;34m\u001b[0m\u001b[0m\n\u001b[1;32m      5\u001b[0m \u001b[0;31m# 25000 movie reviews\u001b[0m\u001b[0;34m\u001b[0m\u001b[0;34m\u001b[0m\u001b[0m\n",
      "\u001b[0;32m/Users/pranavreddy/anaconda/lib/python3.6/site-packages/pandas/io/parsers.py\u001b[0m in \u001b[0;36mparser_f\u001b[0;34m(filepath_or_buffer, sep, delimiter, header, names, index_col, usecols, squeeze, prefix, mangle_dupe_cols, dtype, engine, converters, true_values, false_values, skipinitialspace, skiprows, nrows, na_values, keep_default_na, na_filter, verbose, skip_blank_lines, parse_dates, infer_datetime_format, keep_date_col, date_parser, dayfirst, iterator, chunksize, compression, thousands, decimal, lineterminator, quotechar, quoting, escapechar, comment, encoding, dialect, tupleize_cols, error_bad_lines, warn_bad_lines, skipfooter, skip_footer, doublequote, delim_whitespace, as_recarray, compact_ints, use_unsigned, low_memory, buffer_lines, memory_map, float_precision)\u001b[0m\n\u001b[1;32m    653\u001b[0m                     skip_blank_lines=skip_blank_lines)\n\u001b[1;32m    654\u001b[0m \u001b[0;34m\u001b[0m\u001b[0m\n\u001b[0;32m--> 655\u001b[0;31m         \u001b[0;32mreturn\u001b[0m \u001b[0m_read\u001b[0m\u001b[0;34m(\u001b[0m\u001b[0mfilepath_or_buffer\u001b[0m\u001b[0;34m,\u001b[0m \u001b[0mkwds\u001b[0m\u001b[0;34m)\u001b[0m\u001b[0;34m\u001b[0m\u001b[0m\n\u001b[0m\u001b[1;32m    656\u001b[0m \u001b[0;34m\u001b[0m\u001b[0m\n\u001b[1;32m    657\u001b[0m     \u001b[0mparser_f\u001b[0m\u001b[0;34m.\u001b[0m\u001b[0m__name__\u001b[0m \u001b[0;34m=\u001b[0m \u001b[0mname\u001b[0m\u001b[0;34m\u001b[0m\u001b[0m\n",
      "\u001b[0;32m/Users/pranavreddy/anaconda/lib/python3.6/site-packages/pandas/io/parsers.py\u001b[0m in \u001b[0;36m_read\u001b[0;34m(filepath_or_buffer, kwds)\u001b[0m\n\u001b[1;32m    403\u001b[0m \u001b[0;34m\u001b[0m\u001b[0m\n\u001b[1;32m    404\u001b[0m     \u001b[0;31m# Create the parser.\u001b[0m\u001b[0;34m\u001b[0m\u001b[0;34m\u001b[0m\u001b[0m\n\u001b[0;32m--> 405\u001b[0;31m     \u001b[0mparser\u001b[0m \u001b[0;34m=\u001b[0m \u001b[0mTextFileReader\u001b[0m\u001b[0;34m(\u001b[0m\u001b[0mfilepath_or_buffer\u001b[0m\u001b[0;34m,\u001b[0m \u001b[0;34m**\u001b[0m\u001b[0mkwds\u001b[0m\u001b[0;34m)\u001b[0m\u001b[0;34m\u001b[0m\u001b[0m\n\u001b[0m\u001b[1;32m    406\u001b[0m \u001b[0;34m\u001b[0m\u001b[0m\n\u001b[1;32m    407\u001b[0m     \u001b[0;32mif\u001b[0m \u001b[0mchunksize\u001b[0m \u001b[0;32mor\u001b[0m \u001b[0miterator\u001b[0m\u001b[0;34m:\u001b[0m\u001b[0;34m\u001b[0m\u001b[0m\n",
      "\u001b[0;32m/Users/pranavreddy/anaconda/lib/python3.6/site-packages/pandas/io/parsers.py\u001b[0m in \u001b[0;36m__init__\u001b[0;34m(self, f, engine, **kwds)\u001b[0m\n\u001b[1;32m    762\u001b[0m             \u001b[0mself\u001b[0m\u001b[0;34m.\u001b[0m\u001b[0moptions\u001b[0m\u001b[0;34m[\u001b[0m\u001b[0;34m'has_index_names'\u001b[0m\u001b[0;34m]\u001b[0m \u001b[0;34m=\u001b[0m \u001b[0mkwds\u001b[0m\u001b[0;34m[\u001b[0m\u001b[0;34m'has_index_names'\u001b[0m\u001b[0;34m]\u001b[0m\u001b[0;34m\u001b[0m\u001b[0m\n\u001b[1;32m    763\u001b[0m \u001b[0;34m\u001b[0m\u001b[0m\n\u001b[0;32m--> 764\u001b[0;31m         \u001b[0mself\u001b[0m\u001b[0;34m.\u001b[0m\u001b[0m_make_engine\u001b[0m\u001b[0;34m(\u001b[0m\u001b[0mself\u001b[0m\u001b[0;34m.\u001b[0m\u001b[0mengine\u001b[0m\u001b[0;34m)\u001b[0m\u001b[0;34m\u001b[0m\u001b[0m\n\u001b[0m\u001b[1;32m    765\u001b[0m \u001b[0;34m\u001b[0m\u001b[0m\n\u001b[1;32m    766\u001b[0m     \u001b[0;32mdef\u001b[0m \u001b[0mclose\u001b[0m\u001b[0;34m(\u001b[0m\u001b[0mself\u001b[0m\u001b[0;34m)\u001b[0m\u001b[0;34m:\u001b[0m\u001b[0;34m\u001b[0m\u001b[0m\n",
      "\u001b[0;32m/Users/pranavreddy/anaconda/lib/python3.6/site-packages/pandas/io/parsers.py\u001b[0m in \u001b[0;36m_make_engine\u001b[0;34m(self, engine)\u001b[0m\n\u001b[1;32m    983\u001b[0m     \u001b[0;32mdef\u001b[0m \u001b[0m_make_engine\u001b[0m\u001b[0;34m(\u001b[0m\u001b[0mself\u001b[0m\u001b[0;34m,\u001b[0m \u001b[0mengine\u001b[0m\u001b[0;34m=\u001b[0m\u001b[0;34m'c'\u001b[0m\u001b[0;34m)\u001b[0m\u001b[0;34m:\u001b[0m\u001b[0;34m\u001b[0m\u001b[0m\n\u001b[1;32m    984\u001b[0m         \u001b[0;32mif\u001b[0m \u001b[0mengine\u001b[0m \u001b[0;34m==\u001b[0m \u001b[0;34m'c'\u001b[0m\u001b[0;34m:\u001b[0m\u001b[0;34m\u001b[0m\u001b[0m\n\u001b[0;32m--> 985\u001b[0;31m             \u001b[0mself\u001b[0m\u001b[0;34m.\u001b[0m\u001b[0m_engine\u001b[0m \u001b[0;34m=\u001b[0m \u001b[0mCParserWrapper\u001b[0m\u001b[0;34m(\u001b[0m\u001b[0mself\u001b[0m\u001b[0;34m.\u001b[0m\u001b[0mf\u001b[0m\u001b[0;34m,\u001b[0m \u001b[0;34m**\u001b[0m\u001b[0mself\u001b[0m\u001b[0;34m.\u001b[0m\u001b[0moptions\u001b[0m\u001b[0;34m)\u001b[0m\u001b[0;34m\u001b[0m\u001b[0m\n\u001b[0m\u001b[1;32m    986\u001b[0m         \u001b[0;32melse\u001b[0m\u001b[0;34m:\u001b[0m\u001b[0;34m\u001b[0m\u001b[0m\n\u001b[1;32m    987\u001b[0m             \u001b[0;32mif\u001b[0m \u001b[0mengine\u001b[0m \u001b[0;34m==\u001b[0m \u001b[0;34m'python'\u001b[0m\u001b[0;34m:\u001b[0m\u001b[0;34m\u001b[0m\u001b[0m\n",
      "\u001b[0;32m/Users/pranavreddy/anaconda/lib/python3.6/site-packages/pandas/io/parsers.py\u001b[0m in \u001b[0;36m__init__\u001b[0;34m(self, src, **kwds)\u001b[0m\n\u001b[1;32m   1603\u001b[0m         \u001b[0mkwds\u001b[0m\u001b[0;34m[\u001b[0m\u001b[0;34m'allow_leading_cols'\u001b[0m\u001b[0;34m]\u001b[0m \u001b[0;34m=\u001b[0m \u001b[0mself\u001b[0m\u001b[0;34m.\u001b[0m\u001b[0mindex_col\u001b[0m \u001b[0;32mis\u001b[0m \u001b[0;32mnot\u001b[0m \u001b[0;32mFalse\u001b[0m\u001b[0;34m\u001b[0m\u001b[0m\n\u001b[1;32m   1604\u001b[0m \u001b[0;34m\u001b[0m\u001b[0m\n\u001b[0;32m-> 1605\u001b[0;31m         \u001b[0mself\u001b[0m\u001b[0;34m.\u001b[0m\u001b[0m_reader\u001b[0m \u001b[0;34m=\u001b[0m \u001b[0mparsers\u001b[0m\u001b[0;34m.\u001b[0m\u001b[0mTextReader\u001b[0m\u001b[0;34m(\u001b[0m\u001b[0msrc\u001b[0m\u001b[0;34m,\u001b[0m \u001b[0;34m**\u001b[0m\u001b[0mkwds\u001b[0m\u001b[0;34m)\u001b[0m\u001b[0;34m\u001b[0m\u001b[0m\n\u001b[0m\u001b[1;32m   1606\u001b[0m \u001b[0;34m\u001b[0m\u001b[0m\n\u001b[1;32m   1607\u001b[0m         \u001b[0;31m# XXX\u001b[0m\u001b[0;34m\u001b[0m\u001b[0;34m\u001b[0m\u001b[0m\n",
      "\u001b[0;32mpandas/_libs/parsers.pyx\u001b[0m in \u001b[0;36mpandas._libs.parsers.TextReader.__cinit__ (pandas/_libs/parsers.c:4209)\u001b[0;34m()\u001b[0m\n",
      "\u001b[0;32mpandas/_libs/parsers.pyx\u001b[0m in \u001b[0;36mpandas._libs.parsers.TextReader._setup_parser_source (pandas/_libs/parsers.c:8873)\u001b[0;34m()\u001b[0m\n",
      "\u001b[0;31mFileNotFoundError\u001b[0m: File b'labeledTrainData.tsv' does not exist"
     ]
    }
   ],
   "source": [
    "#import pandas as pd \n",
    "ntotal=3000\n",
    "data = pd.read_csv(\"labeledTrainData.tsv\", header=0, delimiter=\"\\t\", quoting=3, nrows=ntotal)       \n",
    "#data = pd.read_csv(\"labeledTrainData.tsv\", header=0, delimiter=\"\\t\", quoting=3)\n",
    "# 25000 movie reviews\n",
    "print(data.shape) # (25000, 3) \n",
    "print(data[\"review\"][0][:89])         # Check out the review\n",
    "print(data[\"sentiment\"][0])          # Check out the sentiment (0/1)"
   ]
  },
  {
   "cell_type": "code",
   "execution_count": null,
   "metadata": {
    "collapsed": false
   },
   "outputs": [],
   "source": [
    "len(data[\"review\"])"
   ]
  },
  {
   "cell_type": "markdown",
   "metadata": {},
   "source": [
    "The sentiment in this corpus is 0 for negative and 1 for positive. \n",
    "\n",
    "First, we shuffle the data and split it for training and testing."
   ]
  },
  {
   "cell_type": "code",
   "execution_count": null,
   "metadata": {
    "collapsed": false
   },
   "outputs": [],
   "source": [
    "import random as rd\n",
    "sentiment_data = list(zip(data[\"review\"], data[\"sentiment\"]))\n",
    "len(sentiment_data)\n",
    "rd.shuffle(sentiment_data)\n",
    "# 80% for training\n",
    "ntrain=int(ntotal*4/5)\n",
    "print(ntrain)\n",
    "train_X, train_y = zip(*sentiment_data[:ntrain])\n",
    "# Keep 20% for testing\n",
    "test_X, test_y = zip(*sentiment_data[ntrain:])"
   ]
  },
  {
   "cell_type": "markdown",
   "metadata": {
    "collapsed": true
   },
   "source": [
    "## Train and test model (Method 3)"
   ]
  },
  {
   "cell_type": "code",
   "execution_count": null,
   "metadata": {
    "collapsed": false
   },
   "outputs": [],
   "source": [
    "from unidecode import unidecode\n",
    "from nltk import word_tokenize\n",
    "from nltk.classify import NaiveBayesClassifier\n",
    "from nltk.sentiment import SentimentAnalyzer\n",
    "from nltk.sentiment.util import extract_unigram_feats, mark_negation\n",
    " \n",
    " \n",
    "# mark_negation appends a \"_NEG\" to words after a negation until a punctuation mark.\n",
    "# this means that the same after a negation will be handled differently \n",
    "# than the word that's not after a negation by the classifier\n",
    "print(mark_negation(\"I like the movie .\".split()))        # ['I', 'like', 'the', 'movie.']\n",
    "print(mark_negation(\"I don't like the movie .\".split()))  # ['I', \"don't\", 'like_NEG', 'the_NEG', 'movie._NEG']"
   ]
  },
  {
   "cell_type": "code",
   "execution_count": null,
   "metadata": {
    "collapsed": false
   },
   "outputs": [],
   "source": [
    "# The nltk classifier won't be able to handle the whole training set\n",
    "TRAINING_COUNT = ntrain\n",
    " \n",
    "analyzer = SentimentAnalyzer()\n",
    "vocabulary = analyzer.all_words([mark_negation(word_tokenize(unidecode(clean_text(instance)))) \n",
    "                                 for instance in train_X[:TRAINING_COUNT]])\n",
    "print(\"Vocabulary: \", len(vocabulary)) # 1356908\n",
    " \n",
    "print(\"Computing Unigram Features ...\")\n",
    "unigram_features = analyzer.unigram_word_feats(vocabulary, min_freq=10)\n",
    "print(\"Unigram Features: \", len(unigram_features)) # 8237\n",
    " \n",
    "analyzer.add_feat_extractor(extract_unigram_feats, unigrams=unigram_features)\n",
    " \n",
    "# Build the training set\n",
    "_train_X = analyzer.apply_features([mark_negation(word_tokenize(unidecode(clean_text(instance)))) \n",
    "                                    for instance in train_X[:TRAINING_COUNT]], labeled=False)\n",
    " \n",
    "# Build the test set\n",
    "_test_X = analyzer.apply_features([mark_negation(word_tokenize(unidecode(clean_text(instance)))) \n",
    "                                   for instance in test_X], labeled=False)"
   ]
  },
  {
   "cell_type": "code",
   "execution_count": null,
   "metadata": {
    "collapsed": false
   },
   "outputs": [],
   "source": [
    "trainer = NaiveBayesClassifier.train\n",
    "classifier = analyzer.train(trainer, zip(_train_X, train_y[:TRAINING_COUNT]))"
   ]
  },
  {
   "cell_type": "code",
   "execution_count": null,
   "metadata": {
    "collapsed": false
   },
   "outputs": [],
   "source": [
    "score = analyzer.evaluate(zip(_test_X, test_y))\n",
    "print(\"Accuracy: \", score['Accuracy']) # 0.8064 for TRAINING_COUNT=5000"
   ]
  },
  {
   "cell_type": "markdown",
   "metadata": {},
   "source": [
    "You should obtain a 0.8064 accuracy using this method (using only the first 5000 training samples)."
   ]
  },
  {
   "cell_type": "markdown",
   "metadata": {
    "collapsed": true
   },
   "source": [
    "# Method 4: NLTK SklearnClassifier\n",
    "[Source](https://pythonprogramming.net/new-data-set-training-nltk-tutorial/)\n",
    "\n",
    "Warning: This model may take several hours to train."
   ]
  },
  {
   "cell_type": "code",
   "execution_count": null,
   "metadata": {
    "collapsed": true
   },
   "outputs": [],
   "source": [
    "import nltk\n",
    "import random\n",
    "from nltk.corpus import movie_reviews\n",
    "from nltk.classify.scikitlearn import SklearnClassifier\n",
    "import pickle\n",
    "\n",
    "from sklearn.naive_bayes import MultinomialNB, BernoulliNB\n",
    "from sklearn.linear_model import LogisticRegression, SGDClassifier\n",
    "from sklearn.svm import SVC, LinearSVC, NuSVC\n",
    "\n",
    "from nltk.classify import ClassifierI\n",
    "from statistics import mode\n",
    "\n",
    "from nltk.tokenize import word_tokenize\n",
    "\n",
    "\n",
    "class VoteClassifier(ClassifierI):\n",
    "    def __init__(self, *classifiers):\n",
    "        self._classifiers = classifiers\n",
    "\n",
    "    def classify(self, features):\n",
    "        votes = []\n",
    "        for c in self._classifiers:\n",
    "            v = c.classify(features)\n",
    "            votes.append(v)\n",
    "        return mode(votes)\n",
    "\n",
    "    def confidence(self, features):\n",
    "        votes = []\n",
    "        for c in self._classifiers:\n",
    "            v = c.classify(features)\n",
    "            votes.append(v)\n",
    "\n",
    "        choice_votes = votes.count(mode(votes))\n",
    "        conf = choice_votes / len(votes)\n",
    "        return conf\n",
    "        \n",
    "short_pos = open(\"short_reviews/positive.txt\",\"r\").read()\n",
    "short_neg = open(\"short_reviews/negative.txt\",\"r\").read()\n",
    "\n",
    "documents = []\n",
    "\n",
    "for r in short_pos.split('\\n'):\n",
    "    documents.append( (r, \"pos\") )\n",
    "\n",
    "for r in short_neg.split('\\n'):\n",
    "    documents.append( (r, \"neg\") )\n",
    "\n",
    "\n",
    "all_words = []\n",
    "\n",
    "short_pos_words = word_tokenize(short_pos)\n",
    "short_neg_words = word_tokenize(short_neg)\n",
    "\n",
    "for w in short_pos_words:\n",
    "    all_words.append(w.lower())\n",
    "\n",
    "for w in short_neg_words:\n",
    "    all_words.append(w.lower())\n",
    "\n",
    "all_words = nltk.FreqDist(all_words)\n",
    "\n",
    "word_features = list(all_words.keys())[:5000]\n",
    "\n",
    "def find_features(document):\n",
    "    words = word_tokenize(document)\n",
    "    features = {}\n",
    "    for w in word_features:\n",
    "        features[w] = (w in words)\n",
    "\n",
    "    return features\n",
    "\n",
    "#print((find_features(movie_reviews.words('neg/cv000_29416.txt'))))\n",
    "\n",
    "featuresets = [(find_features(rev), category) for (rev, category) in documents]\n",
    "\n",
    "random.shuffle(featuresets)\n",
    "\n",
    "# positive data example:      \n",
    "training_set = featuresets[:10000]\n",
    "testing_set =  featuresets[10000:]\n",
    "\n",
    "##\n",
    "### negative data example:      \n",
    "##training_set = featuresets[100:]\n",
    "##testing_set =  featuresets[:100]\n",
    "\n",
    "\n",
    "classifier = nltk.NaiveBayesClassifier.train(training_set)\n",
    "print(\"Original Naive Bayes Algo accuracy percent:\", (nltk.classify.accuracy(classifier, testing_set))*100)\n",
    "classifier.show_most_informative_features(15)\n",
    "\n",
    "MNB_classifier = SklearnClassifier(MultinomialNB())\n",
    "MNB_classifier.train(training_set)\n",
    "print(\"MNB_classifier accuracy percent:\", (nltk.classify.accuracy(MNB_classifier, testing_set))*100)\n",
    "\n",
    "BernoulliNB_classifier = SklearnClassifier(BernoulliNB())\n",
    "BernoulliNB_classifier.train(training_set)\n",
    "print(\"BernoulliNB_classifier accuracy percent:\", (nltk.classify.accuracy(BernoulliNB_classifier, testing_set))*100)\n",
    "\n",
    "LogisticRegression_classifier = SklearnClassifier(LogisticRegression())\n",
    "LogisticRegression_classifier.train(training_set)\n",
    "print(\"LogisticRegression_classifier accuracy percent:\", (nltk.classify.accuracy(LogisticRegression_classifier, testing_set))*100)\n",
    "\n",
    "SGDClassifier_classifier = SklearnClassifier(SGDClassifier())\n",
    "SGDClassifier_classifier.train(training_set)\n",
    "print(\"SGDClassifier_classifier accuracy percent:\", (nltk.classify.accuracy(SGDClassifier_classifier, testing_set))*100)\n",
    "\n",
    "##SVC_classifier = SklearnClassifier(SVC())\n",
    "##SVC_classifier.train(training_set)\n",
    "##print(\"SVC_classifier accuracy percent:\", (nltk.classify.accuracy(SVC_classifier, testing_set))*100)\n",
    "\n",
    "LinearSVC_classifier = SklearnClassifier(LinearSVC())\n",
    "LinearSVC_classifier.train(training_set)\n",
    "print(\"LinearSVC_classifier accuracy percent:\", (nltk.classify.accuracy(LinearSVC_classifier, testing_set))*100)\n",
    "\n",
    "NuSVC_classifier = SklearnClassifier(NuSVC())\n",
    "NuSVC_classifier.train(training_set)\n",
    "print(\"NuSVC_classifier accuracy percent:\", (nltk.classify.accuracy(NuSVC_classifier, testing_set))*100)\n",
    "\n",
    "\n",
    "voted_classifier = VoteClassifier(\n",
    "                                  NuSVC_classifier,\n",
    "                                  LinearSVC_classifier,\n",
    "                                  MNB_classifier,\n",
    "                                  BernoulliNB_classifier,\n",
    "                                  LogisticRegression_classifier)\n",
    "\n",
    "print(\"voted_classifier accuracy percent:\", (nltk.classify.accuracy(voted_classifier, testing_set))*100)"
   ]
  },
  {
   "cell_type": "code",
   "execution_count": null,
   "metadata": {
    "collapsed": true
   },
   "outputs": [],
   "source": [
    "analytics vidya india ion nation \n",
    "analyt csv dhya nd a on nat on"
   ]
  }
 ],
 "metadata": {
  "kernelspec": {
   "display_name": "Python 3",
   "language": "python",
   "name": "python3"
  },
  "language_info": {
   "codemirror_mode": {
    "name": "ipython",
    "version": 3
   },
   "file_extension": ".py",
   "mimetype": "text/x-python",
   "name": "python",
   "nbconvert_exporter": "python",
   "pygments_lexer": "ipython3",
   "version": "3.6.0"
  }
 },
 "nbformat": 4,
 "nbformat_minor": 2
}
